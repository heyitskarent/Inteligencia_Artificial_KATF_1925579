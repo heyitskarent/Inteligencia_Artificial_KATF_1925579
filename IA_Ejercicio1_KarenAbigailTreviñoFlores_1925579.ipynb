{
  "nbformat": 4,
  "nbformat_minor": 0,
  "metadata": {
    "colab": {
      "provenance": []
    },
    "kernelspec": {
      "name": "python3",
      "display_name": "Python 3"
    },
    "language_info": {
      "name": "python"
    }
  },
  "cells": [
    {
      "cell_type": "markdown",
      "source": [
        "Título: Actividad 2- Ejercicios en Python 1 \n",
        "\n",
        "Nombre: Karen Abigail Treviño Flores\n",
        "\n",
        "Matricula: 1925579\n",
        "\n",
        "Hora: N1 "
      ],
      "metadata": {
        "id": "UhtyBwCYuzdw"
      }
    },
    {
      "cell_type": "markdown",
      "source": [
        "1- Escribe un programa que le pida al usuario por su nombre y que lo salude con su nombre, excepto si se llama “Ana”, “Juan”, y “Pedro”. "
      ],
      "metadata": {
        "id": "P1U0YEv_4K9Q"
      }
    },
    {
      "cell_type": "code",
      "source": [
        "# Se crea una encuesta para que el usuario inserte su nombre\n",
        "#@title Encuesta { run: \"auto\", vertical-output: true }\n",
        "Nombre = \"karen\" #@param {type:\"string\"}\n",
        "\n",
        "# La cadena se transforma en mayúsculas para \n",
        "# facilitar el análisis de excepciones\n",
        "Nombre = Nombre.upper()\n",
        "\n",
        "# Condicional que registra la presencia de las excepciones en la\n",
        "# cadena de texto insertada en la variable \"Nombre\"\n",
        "if Nombre is \"\":\n",
        "  print(\"¡Inserta tu nombre arriba para saludarte! (=^-ω-^=)\")\n",
        "elif (\"ANA\" in Nombre or \"JUAN\" in Nombre or \"PEDRO\" in Nombre):\n",
        "  print(\"¡HOLA! (´・ω・)ﾉ\")\n",
        "else:\n",
        "  print(\"HOLA,\", Nombre, \"(´・ω・)ﾉ\" )"
      ],
      "metadata": {
        "colab": {
          "base_uri": "https://localhost:8080/"
        },
        "id": "ddsMgvCKwGd4",
        "outputId": "96115dc1-2999-42f7-cc65-7f42e45bf42c"
      },
      "execution_count": null,
      "outputs": [
        {
          "output_type": "stream",
          "name": "stdout",
          "text": [
            "HOLA, KAREN (´・ω・)ﾉ\n"
          ]
        }
      ]
    },
    {
      "cell_type": "markdown",
      "source": [
        "2- Escribe una función que regrese el último elemento de una lista y que revierta el orden de la lista e imprima la lista revertida. "
      ],
      "metadata": {
        "id": "gT2bxDUF4V3K"
      }
    },
    {
      "cell_type": "code",
      "source": [
        "#Se define una lista con un valor determinado de cualquier clase (Bool, Int, String, etc...)\n",
        "Lista = [True, \"Salsa\", 2, False, \"Manzana\", 7]\n",
        "\n",
        "# Con la sintaxis \"list[-n]\" se devuelve el n-ésimo último valor de una lista\n",
        "UltimoElemento = Lista[-1]\n",
        "\n",
        "print(\"Lista Original:\", Lista)\n",
        "print(\"Último Elemento:\", UltimoElemento)\n",
        "\n",
        "# Con el comando \".reverse()\" se invierte el órden de los valores dentro de la lista\n",
        "Lista.reverse()\n",
        "print(\"Lista Reverso:\", Lista)"
      ],
      "metadata": {
        "colab": {
          "base_uri": "https://localhost:8080/"
        },
        "id": "2Un7JjAk4rsn",
        "outputId": "84ab664a-4b77-42a5-9f56-273843ec44aa"
      },
      "execution_count": null,
      "outputs": [
        {
          "output_type": "stream",
          "name": "stdout",
          "text": [
            "Lista Original: [True, 'Salsa', 2, False, 'Manzana', 7]\n",
            "Último Elemento: 7\n",
            "Lista Reverso: [7, 'Manzana', False, 2, 'Salsa', True]\n"
          ]
        }
      ]
    },
    {
      "cell_type": "markdown",
      "source": [
        "3- Escribe una función que toma una lista de strings y los imprima línea por línea en un marco rectangular."
      ],
      "metadata": {
        "id": "5iDKV4GNMgRE"
      }
    },
    {
      "cell_type": "code",
      "source": [
        "# Se crea la encuesta para que el usuario inserte una cadena de texto\n",
        "#@title Cadena de texto { run: \"auto\", vertical-output: true, form-width: \"450px\" }\n",
        "Cadena = \"Hola que tal todo como est\\xE1s\" #@param {type:\"string\"}\n",
        "\n",
        "# Se divide la cadena un subcadenas para calcular la máxima longitud de las subcadenas\n",
        "CadenaSplit = Cadena.split()\n",
        "Longitud = len(max(CadenaSplit, key = len))\n",
        "\n",
        "# Dibujar línea superior del marco\n",
        "print('**' + '*' * Longitud + '**')\n",
        "\n",
        "# Insertar valores únicos de cadena por columna al centro del marco\n",
        "for Linea in CadenaSplit:\n",
        "    print('* {0:^{1}} *'.format(Linea, Longitud))\n",
        "\n",
        "# Dibujar línea inferior del marco\n",
        "print('**' + '*' * Longitud + '**')"
      ],
      "metadata": {
        "colab": {
          "base_uri": "https://localhost:8080/"
        },
        "id": "x47VIVLeMpa4",
        "outputId": "172eaf17-53a2-4fda-c61c-81f398d3e60b"
      },
      "execution_count": 34,
      "outputs": [
        {
          "output_type": "stream",
          "name": "stdout",
          "text": [
            "*********\n",
            "* Hola  *\n",
            "*  que  *\n",
            "*  tal  *\n",
            "* todo  *\n",
            "* como  *\n",
            "* estás *\n",
            "*********\n"
          ]
        }
      ]
    }
  ]
}